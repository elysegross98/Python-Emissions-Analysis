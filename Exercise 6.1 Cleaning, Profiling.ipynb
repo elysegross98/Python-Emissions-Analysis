{
 "cells": [
  {
   "cell_type": "markdown",
   "metadata": {},
   "source": [
    "# Exercise 6.1: Cleaning, Profiling"
   ]
  },
  {
   "cell_type": "code",
   "execution_count": 1,
   "metadata": {},
   "outputs": [],
   "source": [
    "# importing libraries\n",
    "import pandas as pd\n",
    "import numpy as np\n",
    "import os"
   ]
  },
  {
   "cell_type": "code",
   "execution_count": 2,
   "metadata": {},
   "outputs": [],
   "source": [
    "#importing data using path shortcut\n",
    "path1 = r'/Users/elysegross/Documents/Data Analytics/A6/'\n",
    "df_emissions = pd.read_csv(os.path.join(path1, 'Data', '2019 Emissions.csv'))"
   ]
  },
  {
   "cell_type": "code",
   "execution_count": 3,
   "metadata": {},
   "outputs": [
    {
     "data": {
      "text/plain": [
       "Plant Code                                                object\n",
       "Plant Name                                                object\n",
       "State                                                     object\n",
       "Sector Group                                              object\n",
       "Sector Code                                              float64\n",
       "Prime Mover                                               object\n",
       "Fuel Code                                                 object\n",
       "Aggregated Fuel Group                                     object\n",
       "Generation (kWh)                                         float64\n",
       "Useful Thermal Output (MMBtu)                            float64\n",
       "Total Fuel Consumption (MMBtu)                           float64\n",
       "Fuel Consumption for Electric Generation (MMBtu)         float64\n",
       "\\n Fuel Consumption for Useful Thermal Output (MMBtu)    float64\n",
       "Quantity of Fuel Consumed                                float64\n",
       "Fuel Units                                                object\n",
       "Tons of CO2 Emissions                                    float64\n",
       "Metric Tonnes of CO2 Emissions                           float64\n",
       "NERC Region                                               object\n",
       "Balancing Authority Code                                  object\n",
       "Balancing Authority Name                                  object\n",
       "EIA Balancing Authority Region                            object\n",
       "dtype: object"
      ]
     },
     "execution_count": 3,
     "metadata": {},
     "output_type": "execute_result"
    }
   ],
   "source": [
    "df_emissions.dtypes"
   ]
  },
  {
   "cell_type": "code",
   "execution_count": 4,
   "metadata": {},
   "outputs": [],
   "source": [
    "df_emissions['Sector Code'] = df_emissions['Sector Code'].astype('str')"
   ]
  },
  {
   "cell_type": "code",
   "execution_count": 5,
   "metadata": {},
   "outputs": [
    {
     "data": {
      "text/plain": [
       "Plant Code                                                object\n",
       "Plant Name                                                object\n",
       "State                                                     object\n",
       "Sector Group                                              object\n",
       "Sector Code                                               object\n",
       "Prime Mover                                               object\n",
       "Fuel Code                                                 object\n",
       "Aggregated Fuel Group                                     object\n",
       "Generation (kWh)                                         float64\n",
       "Useful Thermal Output (MMBtu)                            float64\n",
       "Total Fuel Consumption (MMBtu)                           float64\n",
       "Fuel Consumption for Electric Generation (MMBtu)         float64\n",
       "\\n Fuel Consumption for Useful Thermal Output (MMBtu)    float64\n",
       "Quantity of Fuel Consumed                                float64\n",
       "Fuel Units                                                object\n",
       "Tons of CO2 Emissions                                    float64\n",
       "Metric Tonnes of CO2 Emissions                           float64\n",
       "NERC Region                                               object\n",
       "Balancing Authority Code                                  object\n",
       "Balancing Authority Name                                  object\n",
       "EIA Balancing Authority Region                            object\n",
       "dtype: object"
      ]
     },
     "execution_count": 5,
     "metadata": {},
     "output_type": "execute_result"
    }
   ],
   "source": [
    "df_emissions.dtypes"
   ]
  },
  {
   "cell_type": "code",
   "execution_count": 6,
   "metadata": {},
   "outputs": [],
   "source": [
    "data_profile = df_emissions.describe()"
   ]
  },
  {
   "cell_type": "code",
   "execution_count": 7,
   "metadata": {
    "scrolled": true
   },
   "outputs": [
    {
     "data": {
      "text/html": [
       "<div>\n",
       "<style scoped>\n",
       "    .dataframe tbody tr th:only-of-type {\n",
       "        vertical-align: middle;\n",
       "    }\n",
       "\n",
       "    .dataframe tbody tr th {\n",
       "        vertical-align: top;\n",
       "    }\n",
       "\n",
       "    .dataframe thead th {\n",
       "        text-align: right;\n",
       "    }\n",
       "</style>\n",
       "<table border=\"1\" class=\"dataframe\">\n",
       "  <thead>\n",
       "    <tr style=\"text-align: right;\">\n",
       "      <th></th>\n",
       "      <th>Generation (kWh)</th>\n",
       "      <th>Useful Thermal Output (MMBtu)</th>\n",
       "      <th>Total Fuel Consumption (MMBtu)</th>\n",
       "      <th>Fuel Consumption for Electric Generation (MMBtu)</th>\n",
       "      <th>\\n Fuel Consumption for Useful Thermal Output (MMBtu)</th>\n",
       "      <th>Quantity of Fuel Consumed</th>\n",
       "      <th>Tons of CO2 Emissions</th>\n",
       "      <th>Metric Tonnes of CO2 Emissions</th>\n",
       "    </tr>\n",
       "  </thead>\n",
       "  <tbody>\n",
       "    <tr>\n",
       "      <th>count</th>\n",
       "      <td>5.317000e+03</td>\n",
       "      <td>5.317000e+03</td>\n",
       "      <td>5.317000e+03</td>\n",
       "      <td>5.317000e+03</td>\n",
       "      <td>5.317000e+03</td>\n",
       "      <td>5.317000e+03</td>\n",
       "      <td>5.317000e+03</td>\n",
       "      <td>5.317000e+03</td>\n",
       "    </tr>\n",
       "    <tr>\n",
       "      <th>mean</th>\n",
       "      <td>4.888060e+08</td>\n",
       "      <td>1.900053e+05</td>\n",
       "      <td>4.557313e+06</td>\n",
       "      <td>4.280653e+06</td>\n",
       "      <td>2.926414e+05</td>\n",
       "      <td>2.539645e+06</td>\n",
       "      <td>3.574952e+05</td>\n",
       "      <td>3.243175e+05</td>\n",
       "    </tr>\n",
       "    <tr>\n",
       "      <th>std</th>\n",
       "      <td>1.356127e+09</td>\n",
       "      <td>9.610648e+05</td>\n",
       "      <td>1.364091e+07</td>\n",
       "      <td>1.349381e+07</td>\n",
       "      <td>1.439853e+06</td>\n",
       "      <td>8.036204e+06</td>\n",
       "      <td>1.257768e+06</td>\n",
       "      <td>1.141040e+06</td>\n",
       "    </tr>\n",
       "    <tr>\n",
       "      <th>min</th>\n",
       "      <td>-6.454300e+07</td>\n",
       "      <td>0.000000e+00</td>\n",
       "      <td>0.000000e+00</td>\n",
       "      <td>0.000000e+00</td>\n",
       "      <td>0.000000e+00</td>\n",
       "      <td>0.000000e+00</td>\n",
       "      <td>0.000000e+00</td>\n",
       "      <td>0.000000e+00</td>\n",
       "    </tr>\n",
       "    <tr>\n",
       "      <th>25%</th>\n",
       "      <td>3.240000e+05</td>\n",
       "      <td>0.000000e+00</td>\n",
       "      <td>3.188000e+03</td>\n",
       "      <td>2.266000e+03</td>\n",
       "      <td>0.000000e+00</td>\n",
       "      <td>5.940000e+02</td>\n",
       "      <td>2.380600e+02</td>\n",
       "      <td>2.159700e+02</td>\n",
       "    </tr>\n",
       "    <tr>\n",
       "      <th>50%</th>\n",
       "      <td>1.150900e+07</td>\n",
       "      <td>0.000000e+00</td>\n",
       "      <td>1.188870e+05</td>\n",
       "      <td>7.618200e+04</td>\n",
       "      <td>0.000000e+00</td>\n",
       "      <td>4.617100e+04</td>\n",
       "      <td>7.165150e+03</td>\n",
       "      <td>6.500180e+03</td>\n",
       "    </tr>\n",
       "    <tr>\n",
       "      <th>75%</th>\n",
       "      <td>2.190110e+08</td>\n",
       "      <td>0.000000e+00</td>\n",
       "      <td>1.720804e+06</td>\n",
       "      <td>1.146922e+06</td>\n",
       "      <td>0.000000e+00</td>\n",
       "      <td>9.869140e+05</td>\n",
       "      <td>1.082860e+05</td>\n",
       "      <td>9.823638e+04</td>\n",
       "    </tr>\n",
       "    <tr>\n",
       "      <th>max</th>\n",
       "      <td>1.823766e+10</td>\n",
       "      <td>1.689925e+07</td>\n",
       "      <td>1.820195e+08</td>\n",
       "      <td>1.820195e+08</td>\n",
       "      <td>2.693293e+07</td>\n",
       "      <td>1.462194e+08</td>\n",
       "      <td>1.950239e+07</td>\n",
       "      <td>1.769246e+07</td>\n",
       "    </tr>\n",
       "  </tbody>\n",
       "</table>\n",
       "</div>"
      ],
      "text/plain": [
       "       Generation (kWh)  Useful Thermal Output (MMBtu)  \\\n",
       "count      5.317000e+03                   5.317000e+03   \n",
       "mean       4.888060e+08                   1.900053e+05   \n",
       "std        1.356127e+09                   9.610648e+05   \n",
       "min       -6.454300e+07                   0.000000e+00   \n",
       "25%        3.240000e+05                   0.000000e+00   \n",
       "50%        1.150900e+07                   0.000000e+00   \n",
       "75%        2.190110e+08                   0.000000e+00   \n",
       "max        1.823766e+10                   1.689925e+07   \n",
       "\n",
       "       Total Fuel Consumption (MMBtu)  \\\n",
       "count                    5.317000e+03   \n",
       "mean                     4.557313e+06   \n",
       "std                      1.364091e+07   \n",
       "min                      0.000000e+00   \n",
       "25%                      3.188000e+03   \n",
       "50%                      1.188870e+05   \n",
       "75%                      1.720804e+06   \n",
       "max                      1.820195e+08   \n",
       "\n",
       "       Fuel Consumption for Electric Generation (MMBtu)  \\\n",
       "count                                      5.317000e+03   \n",
       "mean                                       4.280653e+06   \n",
       "std                                        1.349381e+07   \n",
       "min                                        0.000000e+00   \n",
       "25%                                        2.266000e+03   \n",
       "50%                                        7.618200e+04   \n",
       "75%                                        1.146922e+06   \n",
       "max                                        1.820195e+08   \n",
       "\n",
       "       \\n Fuel Consumption for Useful Thermal Output (MMBtu)  \\\n",
       "count                                       5.317000e+03       \n",
       "mean                                        2.926414e+05       \n",
       "std                                         1.439853e+06       \n",
       "min                                         0.000000e+00       \n",
       "25%                                         0.000000e+00       \n",
       "50%                                         0.000000e+00       \n",
       "75%                                         0.000000e+00       \n",
       "max                                         2.693293e+07       \n",
       "\n",
       "       Quantity of Fuel Consumed  Tons of CO2 Emissions  \\\n",
       "count               5.317000e+03           5.317000e+03   \n",
       "mean                2.539645e+06           3.574952e+05   \n",
       "std                 8.036204e+06           1.257768e+06   \n",
       "min                 0.000000e+00           0.000000e+00   \n",
       "25%                 5.940000e+02           2.380600e+02   \n",
       "50%                 4.617100e+04           7.165150e+03   \n",
       "75%                 9.869140e+05           1.082860e+05   \n",
       "max                 1.462194e+08           1.950239e+07   \n",
       "\n",
       "       Metric Tonnes of CO2 Emissions  \n",
       "count                    5.317000e+03  \n",
       "mean                     3.243175e+05  \n",
       "std                      1.141040e+06  \n",
       "min                      0.000000e+00  \n",
       "25%                      2.159700e+02  \n",
       "50%                      6.500180e+03  \n",
       "75%                      9.823638e+04  \n",
       "max                      1.769246e+07  "
      ]
     },
     "execution_count": 7,
     "metadata": {},
     "output_type": "execute_result"
    }
   ],
   "source": [
    "data_profile"
   ]
  },
  {
   "cell_type": "code",
   "execution_count": 9,
   "metadata": {},
   "outputs": [],
   "source": [
    "# Export data to csv\n",
    "df_emissions.to_csv(os.path.join(path1, 'Data', '2019 Emissions Clean.csv'))\n"
   ]
  },
  {
   "cell_type": "code",
   "execution_count": null,
   "metadata": {},
   "outputs": [],
   "source": []
  }
 ],
 "metadata": {
  "kernelspec": {
   "display_name": "Python 3",
   "language": "python",
   "name": "python3"
  },
  "language_info": {
   "codemirror_mode": {
    "name": "ipython",
    "version": 3
   },
   "file_extension": ".py",
   "mimetype": "text/x-python",
   "name": "python",
   "nbconvert_exporter": "python",
   "pygments_lexer": "ipython3",
   "version": "3.7.6"
  }
 },
 "nbformat": 4,
 "nbformat_minor": 4
}
